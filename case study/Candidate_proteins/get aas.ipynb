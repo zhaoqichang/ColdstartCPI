{
 "cells": [
  {
   "cell_type": "code",
   "execution_count": 1,
   "metadata": {
    "ExecuteTime": {
     "end_time": "2024-04-10T15:57:55.069128Z",
     "start_time": "2024-04-10T15:57:55.058159Z"
    }
   },
   "outputs": [],
   "source": [
    "protein_list = []"
   ]
  },
  {
   "cell_type": "code",
   "execution_count": 2,
   "metadata": {
    "ExecuteTime": {
     "end_time": "2024-04-10T15:57:55.422761Z",
     "start_time": "2024-04-10T15:57:55.344969Z"
    }
   },
   "outputs": [],
   "source": [
    "with open(\"./protein.fasta\",\"r\") as file:\n",
    "    lines = file.readlines()\n",
    "    begin = 0\n",
    "    for line in lines:\n",
    "        if \"drugbank_target\" in line:\n",
    "            if begin==1:\n",
    "                protein_list.append([protein_id,aas])\n",
    "            aas = \"\"\n",
    "            protein_id = line.split(\"|\")[1]\n",
    "            protein_id = protein_id.split(\" \")[0]\n",
    "            begin = 1\n",
    "        else:\n",
    "            aas = aas+line.strip()"
   ]
  },
  {
   "cell_type": "code",
   "execution_count": 3,
   "metadata": {
    "ExecuteTime": {
     "end_time": "2024-04-10T15:57:56.886426Z",
     "start_time": "2024-04-10T15:57:55.966565Z"
    }
   },
   "outputs": [],
   "source": [
    "with open(\"protein_list.txt\",\"w\") as file:\n",
    "    for protein in protein_list:\n",
    "        file.writelines(\"{} {}\\n\".format(protein[0],protein[1]))"
   ]
  },
  {
   "cell_type": "code",
   "execution_count": 4,
   "metadata": {
    "ExecuteTime": {
     "end_time": "2024-04-10T15:57:57.473534Z",
     "start_time": "2024-04-10T15:57:57.438657Z"
    }
   },
   "outputs": [],
   "source": [
    "with open(\"protein_ids.txt\",\"w\") as file:\n",
    "    for protein in protein_list:\n",
    "        file.writelines(\"{}\\n\".format(protein[0]))"
   ]
  },
  {
   "cell_type": "code",
   "execution_count": null,
   "metadata": {},
   "outputs": [],
   "source": []
  }
 ],
 "metadata": {
  "hide_input": false,
  "kernelspec": {
   "display_name": "Python 3",
   "language": "python",
   "name": "python3"
  },
  "language_info": {
   "codemirror_mode": {
    "name": "ipython",
    "version": 3
   },
   "file_extension": ".py",
   "mimetype": "text/x-python",
   "name": "python",
   "nbconvert_exporter": "python",
   "pygments_lexer": "ipython3",
   "version": "3.7.1"
  },
  "toc": {
   "base_numbering": 1,
   "nav_menu": {},
   "number_sections": true,
   "sideBar": true,
   "skip_h1_title": false,
   "title_cell": "Table of Contents",
   "title_sidebar": "Contents",
   "toc_cell": false,
   "toc_position": {},
   "toc_section_display": true,
   "toc_window_display": false
  },
  "varInspector": {
   "cols": {
    "lenName": 16,
    "lenType": 16,
    "lenVar": 40
   },
   "kernels_config": {
    "python": {
     "delete_cmd_postfix": "",
     "delete_cmd_prefix": "del ",
     "library": "var_list.py",
     "varRefreshCmd": "print(var_dic_list())"
    },
    "r": {
     "delete_cmd_postfix": ") ",
     "delete_cmd_prefix": "rm(",
     "library": "var_list.r",
     "varRefreshCmd": "cat(var_dic_list()) "
    }
   },
   "types_to_exclude": [
    "module",
    "function",
    "builtin_function_or_method",
    "instance",
    "_Feature"
   ],
   "window_display": false
  }
 },
 "nbformat": 4,
 "nbformat_minor": 2
}
