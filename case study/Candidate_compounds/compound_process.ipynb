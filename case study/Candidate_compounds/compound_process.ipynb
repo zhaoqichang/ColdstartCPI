{
 "cells": [
  {
   "cell_type": "code",
   "execution_count": 1,
   "metadata": {
    "ExecuteTime": {
     "end_time": "2023-10-22T16:06:08.041347Z",
     "start_time": "2023-10-22T16:06:01.350808Z"
    }
   },
   "outputs": [
    {
     "name": "stderr",
     "output_type": "stream",
     "text": [
      "D:\\software\\Anaconda3\\lib\\site-packages\\pandas\\compat\\_optional.py:138: UserWarning: Pandas requires version '2.7.0' or newer of 'numexpr' (version '2.6.8' currently installed).\n",
      "  warnings.warn(msg, UserWarning)\n"
     ]
    }
   ],
   "source": [
    "import pandas as pd\n",
    "import rdkit\n",
    "\n",
    "from rdkit import Chem\n",
    "from rdkit.Chem.MolStandardize import rdMolStandardize\n",
    "from rdkit import RDLogger\n",
    "from rdkit.Chem.inchi import MolToInchiKey\n",
    "RDLogger.DisableLog('rdApp.*')\n",
    "\n",
    "from tqdm import tqdm\n",
    "from rdkit import Chem, RDLogger\n",
    "from rdkit.Chem import MolStandardize\n",
    "from rdkit.Chem.Descriptors import ExactMolWt,MolWt"
   ]
  },
  {
   "cell_type": "markdown",
   "metadata": {},
   "source": [
    "# 提取五个数据库中的SMILES列表"
   ]
  },
  {
   "cell_type": "code",
   "execution_count": 2,
   "metadata": {
    "ExecuteTime": {
     "end_time": "2023-10-22T16:06:08.074259Z",
     "start_time": "2023-10-22T16:06:08.046333Z"
    }
   },
   "outputs": [],
   "source": [
    "class MolClean(object):\n",
    "    def __init__(self):\n",
    "        self.normizer = MolStandardize.normalize.Normalizer()\n",
    "        self.lfc = MolStandardize.fragment.LargestFragmentChooser()\n",
    "        self.uc = MolStandardize.charge.Uncharger()\n",
    " \n",
    "    def clean(self, smi):\n",
    "        mol = Chem.MolFromSmiles(smi)\n",
    "        if mol:\n",
    "#             mol = self.normizer.normalize(mol)\n",
    "#             mol = self.lfc.choose(mol)\n",
    "#             mol = self.uc.uncharge(mol)\n",
    "            # 此处需注意这里的isomericSmiles及canonical这两个参数，后面会说明\n",
    "            smi = Chem.MolToSmiles(mol,  isomericSmiles =True, canonical=True)\n",
    "            return smi\n",
    "        else:\n",
    "            return None\n",
    "\n",
    "def standardize_smi(cid, smiles,basicClean=True,clearCharge=True, clearFrag=True, canonTautomer=False, isomeric=False):\n",
    "    try:\n",
    "        clean_mol = Chem.MolFromSmiles(smiles)\n",
    "        # 除去氢、金属原子、标准化分子\n",
    "        if basicClean:\n",
    "            clean_mol = rdMolStandardize.Cleanup(clean_mol)\n",
    "        if clearFrag:\n",
    "            #  仅保留主要片段作为分子\n",
    "            clean_mol = rdMolStandardize.FragmentParent(clean_mol)\n",
    "        # 尝试中性化处理分子\n",
    "        if clearCharge:\n",
    "            uncharger = rdMolStandardize.Uncharger() \n",
    "            clean_mol = uncharger.uncharge(clean_mol)\n",
    "        # 处理互变异构情形，这一步在某些情况下可能不够完美\n",
    "        if canonTautomer:\n",
    "            te = rdMolStandardize.TautomerEnumerator() # idem\n",
    "            clean_mol = te.Canonicalize(clean_mol)\n",
    "        #set to True 保存立体信息，set to False 移除立体信息，并将分子存为标准化后的SMILES形式\n",
    "        stan_smiles=Chem.MolToSmiles(clean_mol, isomericSmiles=isomeric,canonical=True)\n",
    "    except Exception as e:\n",
    "        print (cid, e, smiles)\n",
    "        return None\n",
    "    return stan_smiles\n",
    "\n",
    "def standardize_smi_V1(cid, smiles,isomeric=True):\n",
    "    try:\n",
    "        mol = Chem.MolFromSmiles(smiles)\n",
    "        mol_weight = MolWt(mol)\n",
    "        numAtom = mol.GetNumAtoms()\n",
    "        if mol_weight>900 or mol_weight<50:\n",
    "            # print(\"{} is too large or too small!,smiles is {}\\n\".format(cid,smiles))\n",
    "            return None,None\n",
    "        if numAtom<=3:\n",
    "            # print(\"{} is too small!,smiles is {}\\n\".format(cid,smiles))\n",
    "            return None,None\n",
    "        #set to True 保存立体信息，set to False 移除立体信息，并将分子存为标准化后的SMILES形式\n",
    "        stan_smiles=Chem.MolToSmiles(mol, isomericSmiles=isomeric,canonical=True)\n",
    "        inchkey = MolToInchiKey(mol)\n",
    "    except Exception as e:\n",
    "        # print(cid, e, smiles)\n",
    "        return None,None\n",
    "    return inchkey, stan_smiles"
   ]
  },
  {
   "cell_type": "markdown",
   "metadata": {},
   "source": [
    "## DrugBank"
   ]
  },
  {
   "cell_type": "code",
   "execution_count": 3,
   "metadata": {
    "ExecuteTime": {
     "end_time": "2023-10-22T16:06:08.224856Z",
     "start_time": "2023-10-22T16:06:08.089219Z"
    }
   },
   "outputs": [
    {
     "data": {
      "text/html": [
       "<div>\n",
       "<style scoped>\n",
       "    .dataframe tbody tr th:only-of-type {\n",
       "        vertical-align: middle;\n",
       "    }\n",
       "\n",
       "    .dataframe tbody tr th {\n",
       "        vertical-align: top;\n",
       "    }\n",
       "\n",
       "    .dataframe thead th {\n",
       "        text-align: right;\n",
       "    }\n",
       "</style>\n",
       "<table border=\"1\" class=\"dataframe\">\n",
       "  <thead>\n",
       "    <tr style=\"text-align: right;\">\n",
       "      <th></th>\n",
       "      <th>drugbank_id</th>\n",
       "      <th>smiles</th>\n",
       "    </tr>\n",
       "  </thead>\n",
       "  <tbody>\n",
       "    <tr>\n",
       "      <th>0</th>\n",
       "      <td>DB00006</td>\n",
       "      <td>CC[C@H](C)[C@H](NC(=O)[C@H](CCC(O)=O)NC(=O)[C@...</td>\n",
       "    </tr>\n",
       "    <tr>\n",
       "      <th>1</th>\n",
       "      <td>DB00007</td>\n",
       "      <td>CCNC(=O)[C@@H]1CCCN1C(=O)[C@H](CCCNC(N)=N)NC(=...</td>\n",
       "    </tr>\n",
       "    <tr>\n",
       "      <th>2</th>\n",
       "      <td>DB00014</td>\n",
       "      <td>CC(C)C[C@H](NC(=O)[C@@H](COC(C)(C)C)NC(=O)[C@H...</td>\n",
       "    </tr>\n",
       "    <tr>\n",
       "      <th>3</th>\n",
       "      <td>DB00027</td>\n",
       "      <td>CC(C)C[C@@H](NC(=O)CNC(=O)[C@@H](NC=O)C(C)C)C(...</td>\n",
       "    </tr>\n",
       "    <tr>\n",
       "      <th>4</th>\n",
       "      <td>DB00035</td>\n",
       "      <td>NC(=O)CC[C@@H]1NC(=O)[C@H](CC2=CC=CC=C2)NC(=O)...</td>\n",
       "    </tr>\n",
       "  </tbody>\n",
       "</table>\n",
       "</div>"
      ],
      "text/plain": [
       "  drugbank_id                                             smiles\n",
       "0     DB00006  CC[C@H](C)[C@H](NC(=O)[C@H](CCC(O)=O)NC(=O)[C@...\n",
       "1     DB00007  CCNC(=O)[C@@H]1CCCN1C(=O)[C@H](CCCNC(N)=N)NC(=...\n",
       "2     DB00014  CC(C)C[C@H](NC(=O)[C@@H](COC(C)(C)C)NC(=O)[C@H...\n",
       "3     DB00027  CC(C)C[C@@H](NC(=O)CNC(=O)[C@@H](NC=O)C(C)C)C(...\n",
       "4     DB00035  NC(=O)CC[C@@H]1NC(=O)[C@H](CC2=CC=CC=C2)NC(=O)..."
      ]
     },
     "execution_count": 3,
     "metadata": {},
     "output_type": "execute_result"
    }
   ],
   "source": [
    "\"提取DrugBank数据\"\n",
    "DrugBank_list = []\n",
    "DrugBank_df = pd.read_csv(\"./drugbank_smiles.csv\")[[\"drugbank_id\",\"smiles\"]]\n",
    "DrugBank_df.head()"
   ]
  },
  {
   "cell_type": "code",
   "execution_count": 4,
   "metadata": {
    "ExecuteTime": {
     "end_time": "2023-10-22T16:06:27.347737Z",
     "start_time": "2023-10-22T16:06:08.228845Z"
    },
    "scrolled": true
   },
   "outputs": [],
   "source": [
    "for index, row in DrugBank_df.iterrows():\n",
    "    cid, smiles = row[\"drugbank_id\"], row[\"smiles\"]\n",
    "    inchkey, stan_smiles = standardize_smi_V1(cid, smiles)\n",
    "    if stan_smiles:\n",
    "        DrugBank_list.append([cid,\"DrugBank\",inchkey,stan_smiles])"
   ]
  },
  {
   "cell_type": "code",
   "execution_count": 5,
   "metadata": {
    "ExecuteTime": {
     "end_time": "2023-10-22T16:06:27.381647Z",
     "start_time": "2023-10-22T16:06:27.350730Z"
    }
   },
   "outputs": [
    {
     "name": "stdout",
     "output_type": "stream",
     "text": [
      "19279\n"
     ]
    }
   ],
   "source": [
    "print(len(DrugBank_list))"
   ]
  },
  {
   "cell_type": "markdown",
   "metadata": {},
   "source": [
    "## COCONUT"
   ]
  },
  {
   "cell_type": "code",
   "execution_count": 6,
   "metadata": {
    "ExecuteTime": {
     "end_time": "2023-10-22T16:12:01.308505Z",
     "start_time": "2023-10-22T16:06:27.385636Z"
    }
   },
   "outputs": [],
   "source": [
    "\"提取COCONUT数据\"\n",
    "COCONUT_list = []\n",
    "with open(\"./COCONUT.txt\",\"r\") as file:\n",
    "    lines = file.readlines()\n",
    "    for line in lines:\n",
    "        smiles, cid = line.strip().split(\" \")\n",
    "        inchkey, stan_smiles = standardize_smi_V1(cid, smiles)\n",
    "        if stan_smiles:\n",
    "            COCONUT_list.append([cid,\"COCONUT\",inchkey,stan_smiles])"
   ]
  },
  {
   "cell_type": "code",
   "execution_count": 7,
   "metadata": {
    "ExecuteTime": {
     "end_time": "2023-10-22T16:12:01.324412Z",
     "start_time": "2023-10-22T16:12:01.310449Z"
    }
   },
   "outputs": [
    {
     "name": "stdout",
     "output_type": "stream",
     "text": [
      "377252\n"
     ]
    }
   ],
   "source": [
    "print(len(COCONUT_list))"
   ]
  },
  {
   "cell_type": "markdown",
   "metadata": {},
   "source": [
    "## NPASS"
   ]
  },
  {
   "cell_type": "code",
   "execution_count": 8,
   "metadata": {
    "ExecuteTime": {
     "end_time": "2023-10-22T16:13:22.916996Z",
     "start_time": "2023-10-22T16:12:01.327404Z"
    }
   },
   "outputs": [],
   "source": [
    "\"提取NPASS数据\"\n",
    "NPASS_list = []\n",
    "with open(\"./NPASS.txt\",\"r\") as file:\n",
    "    lines = file.readlines()\n",
    "    for line in lines:\n",
    "        cid, inch, inchkey, smiles = line.strip().split(\"\t\")\n",
    "        inchkey, stan_smiles = standardize_smi_V1(cid, smiles)\n",
    "        if stan_smiles:\n",
    "            NPASS_list.append([cid,\"NPASS\",inchkey, stan_smiles])"
   ]
  },
  {
   "cell_type": "code",
   "execution_count": 9,
   "metadata": {
    "ExecuteTime": {
     "end_time": "2023-10-22T16:13:22.932981Z",
     "start_time": "2023-10-22T16:13:22.918990Z"
    }
   },
   "outputs": [
    {
     "name": "stdout",
     "output_type": "stream",
     "text": [
      "90432\n"
     ]
    }
   ],
   "source": [
    "print(len(NPASS_list))"
   ]
  },
  {
   "cell_type": "code",
   "execution_count": 10,
   "metadata": {
    "ExecuteTime": {
     "end_time": "2023-10-22T16:13:22.948911Z",
     "start_time": "2023-10-22T16:13:22.934949Z"
    }
   },
   "outputs": [
    {
     "data": {
      "text/plain": [
       "[['NPC81384',\n",
       "  'NPASS',\n",
       "  'SUHOQUVVVLNYQR-MRVPVSSYSA-N',\n",
       "  'C[N+](C)(C)CCOP(=O)([O-])OC[C@H](O)CO'],\n",
       " ['NPC109991',\n",
       "  'NPASS',\n",
       "  'RVOHRYJJXCFNQS-YEJXKQKISA-N',\n",
       "  'CC[C@H](C)[C@H](C(=O)O)n1cc2c3c(c(-c4ccccc4)ccc3c1=O)C(=O)C(O)=C2'],\n",
       " ['NPC4649',\n",
       "  'NPASS',\n",
       "  'MHLKYRDXNNGAMX-WLMAVBAVSA-N',\n",
       "  'C/C=C/C(=O)O[C@H]1[C@@H](OC(C)=O)c2c(ccc3ccc(=O)oc23)OC1(C)C'],\n",
       " ['NPC90844',\n",
       "  'NPASS',\n",
       "  'NCVWJDISIZHFQS-AWEZNQCLSA-N',\n",
       "  'COc1ccc2c3c(c4cc(OC)c(OC)cc4c2c1)C[C@@H]1CCCN1C3'],\n",
       " ['NPC18064',\n",
       "  'NPASS',\n",
       "  'HNJKFVJZKCXLRL-SILQXMKOSA-N',\n",
       "  'CC1=CC[C@]2(C(=O)O)CC[C@]3(C)[C@H](CC[C@@H]4[C@@]5(C)CC[C@H](O)C(C)(C)[C@@H]5CC[C@]43C)[C@H]2[C@@H]1C'],\n",
       " ['NPC212965',\n",
       "  'NPASS',\n",
       "  'MYAKCCHNPIRCLY-PSMGVCQDSA-N',\n",
       "  'C/C(=C\\\\CC/C(C)=C/CC[C@]1(C)C=Cc2c(O)cc(C)cc2O1)CO'],\n",
       " ['NPC81135',\n",
       "  'NPASS',\n",
       "  'AAULQOBOWPLXLU-JSGCOSHPSA-N',\n",
       "  'CC(C)(O)[C@H]1OC2=C(C(=O)c3ccccc3C2=O)[C@@H]1O'],\n",
       " ['NPC483076',\n",
       "  'NPASS',\n",
       "  'JZXCMDTZJYOYJA-DVXSWTTMSA-N',\n",
       "  'CC(C)=CC[C@H]1C[C@@]2(C)C(=O)[C@](C(=O)C(C)C)(C(=O)C3=C2O[C@@H](C(C)(C)O)C3)[C@]1(C)CCCC(C)C'],\n",
       " ['NPC194055',\n",
       "  'NPASS',\n",
       "  'CRRZPEMJSQSTDV-JGAIRUGNSA-N',\n",
       "  'CC[C@@H](O)C#CC#C/C=C\\\\C(=O)O'],\n",
       " ['NPC488668',\n",
       "  'NPASS',\n",
       "  'YEEMXVYHDPMVQJ-TTZDDIAXSA-N',\n",
       "  'CC(=O)O[C@H]1C=C[C@H](Cl)[C@](O)(COC(=O)c2ccccc2)[C@@H]1O']]"
      ]
     },
     "execution_count": 10,
     "metadata": {},
     "output_type": "execute_result"
    }
   ],
   "source": [
    "NPASS_list[:10]"
   ]
  },
  {
   "cell_type": "markdown",
   "metadata": {},
   "source": [
    "## FooDB"
   ]
  },
  {
   "cell_type": "code",
   "execution_count": 11,
   "metadata": {
    "ExecuteTime": {
     "end_time": "2023-10-22T16:13:23.740283Z",
     "start_time": "2023-10-22T16:13:22.951903Z"
    }
   },
   "outputs": [
    {
     "name": "stderr",
     "output_type": "stream",
     "text": [
      "D:\\software\\Anaconda3\\lib\\site-packages\\IPython\\core\\interactiveshell.py:3267: DtypeWarning: Columns (3,4,5,6,12,13,14,15) have mixed types.Specify dtype option on import or set low_memory=False.\n",
      "  exec(code_obj, self.user_global_ns, self.user_ns)\n"
     ]
    },
    {
     "data": {
      "text/html": [
       "<div>\n",
       "<style scoped>\n",
       "    .dataframe tbody tr th:only-of-type {\n",
       "        vertical-align: middle;\n",
       "    }\n",
       "\n",
       "    .dataframe tbody tr th {\n",
       "        vertical-align: top;\n",
       "    }\n",
       "\n",
       "    .dataframe thead th {\n",
       "        text-align: right;\n",
       "    }\n",
       "</style>\n",
       "<table border=\"1\" class=\"dataframe\">\n",
       "  <thead>\n",
       "    <tr style=\"text-align: right;\">\n",
       "      <th></th>\n",
       "      <th>public_id</th>\n",
       "      <th>cas_number</th>\n",
       "    </tr>\n",
       "  </thead>\n",
       "  <tbody>\n",
       "    <tr>\n",
       "      <th>0</th>\n",
       "      <td>FDB000004</td>\n",
       "      <td>[H][C@]1(COC(C)=O)O[C@@]([H])(OC2=CC3=C(O)C=C(...</td>\n",
       "    </tr>\n",
       "    <tr>\n",
       "      <th>1</th>\n",
       "      <td>FDB000013</td>\n",
       "      <td>[H][C@]1(COC(=O)CCC(O)=O)O[C@@]([H])(OC2=CC3=C...</td>\n",
       "    </tr>\n",
       "    <tr>\n",
       "      <th>2</th>\n",
       "      <td>FDB000014</td>\n",
       "      <td>[H][C@]1(COC(=O)CCC(O)=O)O[C@@]([H])(OC2=CC3=C...</td>\n",
       "    </tr>\n",
       "    <tr>\n",
       "      <th>3</th>\n",
       "      <td>FDB000024</td>\n",
       "      <td>[H][C@]1(COC(C)=O)OC(OC2=C([O+]=C3C=C(O)C=C(O)...</td>\n",
       "    </tr>\n",
       "    <tr>\n",
       "      <th>4</th>\n",
       "      <td>FDB000025</td>\n",
       "      <td>[H][C@]1(COC(C)=O)OC(OC2=C([O+]=C3C=C(O)C=C(O)...</td>\n",
       "    </tr>\n",
       "  </tbody>\n",
       "</table>\n",
       "</div>"
      ],
      "text/plain": [
       "   public_id                                         cas_number\n",
       "0  FDB000004  [H][C@]1(COC(C)=O)O[C@@]([H])(OC2=CC3=C(O)C=C(...\n",
       "1  FDB000013  [H][C@]1(COC(=O)CCC(O)=O)O[C@@]([H])(OC2=CC3=C...\n",
       "2  FDB000014  [H][C@]1(COC(=O)CCC(O)=O)O[C@@]([H])(OC2=CC3=C...\n",
       "3  FDB000024  [H][C@]1(COC(C)=O)OC(OC2=C([O+]=C3C=C(O)C=C(O)...\n",
       "4  FDB000025  [H][C@]1(COC(C)=O)OC(OC2=C([O+]=C3C=C(O)C=C(O)..."
      ]
     },
     "execution_count": 11,
     "metadata": {},
     "output_type": "execute_result"
    }
   ],
   "source": [
    "\"提取FooDB数据\"\n",
    "import pandas as pd\n",
    "FooDB_list = []\n",
    "FooDB_df = pd.read_csv(\"./FooDB.csv\")[[\"public_id\",\"cas_number\"]]\n",
    "FooDB_df.head()"
   ]
  },
  {
   "cell_type": "code",
   "execution_count": 12,
   "metadata": {
    "ExecuteTime": {
     "end_time": "2023-10-22T16:14:29.157549Z",
     "start_time": "2023-10-22T16:13:23.747179Z"
    }
   },
   "outputs": [],
   "source": [
    "for index, row in FooDB_df.iterrows():\n",
    "    cid, smiles = row[\"public_id\"], row[\"cas_number\"]\n",
    "    inchkey, stan_smiles = standardize_smi_V1(cid, smiles)\n",
    "    if stan_smiles:\n",
    "        FooDB_list.append([cid,\"FooDB\",inchkey, stan_smiles])"
   ]
  },
  {
   "cell_type": "code",
   "execution_count": 13,
   "metadata": {
    "ExecuteTime": {
     "end_time": "2023-10-22T16:14:29.173396Z",
     "start_time": "2023-10-22T16:14:29.164420Z"
    }
   },
   "outputs": [
    {
     "name": "stdout",
     "output_type": "stream",
     "text": [
      "48008\n"
     ]
    }
   ],
   "source": [
    "print(len(FooDB_list))"
   ]
  },
  {
   "cell_type": "code",
   "execution_count": 14,
   "metadata": {
    "ExecuteTime": {
     "end_time": "2023-10-22T16:14:29.190351Z",
     "start_time": "2023-10-22T16:14:29.175390Z"
    }
   },
   "outputs": [
    {
     "data": {
      "text/plain": [
       "[['FDB112145',\n",
       "  'FooDB',\n",
       "  'FCWNOQOVMGNKNG-WDSKDSINSA-N',\n",
       "  'N[C@@H](CCC(=O)NC(=O)CC[C@H](N)C(=O)O)C(=O)O'],\n",
       " ['FDB112146',\n",
       "  'FooDB',\n",
       "  'VKENMLSUUVOQLD-VQVTYTSYSA-N',\n",
       "  'N[C@@H](CCC(=O)N1C[C@H](O)C[C@H]1C(=O)O)C(=O)O'],\n",
       " ['FDB112147',\n",
       "  'FooDB',\n",
       "  'PXVCMZCJAUJLJP-YUMQZZPRSA-N',\n",
       "  'N[C@@H](CCC(=O)N[C@@H](Cc1c[nH]cn1)C(=O)O)C(=O)O'],\n",
       " ['FDB112148',\n",
       "  'FooDB',\n",
       "  'LNLLNTMHVMIMOG-YUMQZZPRSA-N',\n",
       "  'NCCCC[C@H](NC(=O)CC[C@H](N)C(=O)O)C(=O)O'],\n",
       " ['FDB112149',\n",
       "  'FooDB',\n",
       "  'VBCZKAGVUKCANO-BQBZGAKWSA-N',\n",
       "  'N[C@@H](CCC(=O)N1CCC[C@H]1C(=O)O)C(=O)O'],\n",
       " ['FDB112150',\n",
       "  'FooDB',\n",
       "  'SQBNIUOYNOKDTI-WHFBIAKZSA-N',\n",
       "  'N[C@@H](CCC(=O)N[C@@H](CO)C(=O)O)C(=O)O'],\n",
       " ['FDB112151',\n",
       "  'FooDB',\n",
       "  'GWNXFCYUJXASDX-ZDLURKLDSA-N',\n",
       "  'C[C@@H](O)[C@H](NC(=O)CC[C@H](N)C(=O)O)C(=O)O'],\n",
       " ['FDB112152',\n",
       "  'FooDB',\n",
       "  'CATMPQFFVNKDEY-AAEUAGOBSA-N',\n",
       "  'N[C@@H](CCC(=O)N[C@@H](Cc1c[nH]c2ccccc12)C(=O)O)C(=O)O'],\n",
       " ['FDB112153',\n",
       "  'FooDB',\n",
       "  'HUSHOYQNDOSYMV-USYZEHPZSA-N',\n",
       "  'CCCCCCCCCCCCCCCCCC(=O)O[C@H](COC(=O)CCCCCCCCC)COC(=O)CCCCCCCCCCCCC(C)C'],\n",
       " ['FDB112154',\n",
       "  'FooDB',\n",
       "  'IBWSCATYYLCICJ-ICBMVRCQSA-N',\n",
       "  'CCCCCCCCCC(=O)O[C@H](COC(=O)CCCCCCC)COC(=O)CCCCCCCCCCCCC(C)CC']]"
      ]
     },
     "execution_count": 14,
     "metadata": {},
     "output_type": "execute_result"
    }
   ],
   "source": [
    "FooDB_list[-10:]"
   ]
  },
  {
   "cell_type": "markdown",
   "metadata": {},
   "source": [
    "## ChEMBL"
   ]
  },
  {
   "cell_type": "code",
   "execution_count": 15,
   "metadata": {
    "ExecuteTime": {
     "end_time": "2023-10-22T16:49:55.253765Z",
     "start_time": "2023-10-22T16:14:29.193342Z"
    },
    "scrolled": true
   },
   "outputs": [],
   "source": [
    "ChEMBL_list = []\n",
    "with open(\"chembl_33_chemreps.txt\", \"r\") as file:\n",
    "    lines = file.readlines()[1:]\n",
    "    for line in lines:\n",
    "        chembl_id, smiles,_,_ = line.strip().split(\"\\t\")\n",
    "        inchkey,canonical_smiles = standardize_smi_V1(chembl_id,smiles)\n",
    "        if canonical_smiles:\n",
    "            ChEMBL_list.append([chembl_id,\"ChEMBL\",inchkey, canonical_smiles])   "
   ]
  },
  {
   "cell_type": "code",
   "execution_count": 16,
   "metadata": {
    "ExecuteTime": {
     "end_time": "2023-10-22T16:49:55.269671Z",
     "start_time": "2023-10-22T16:49:55.255710Z"
    }
   },
   "outputs": [
    {
     "name": "stdout",
     "output_type": "stream",
     "text": [
      "2310890\n"
     ]
    }
   ],
   "source": [
    "print(len(ChEMBL_list))"
   ]
  },
  {
   "cell_type": "code",
   "execution_count": 17,
   "metadata": {
    "ExecuteTime": {
     "end_time": "2023-10-22T16:49:55.314552Z",
     "start_time": "2023-10-22T16:49:55.272665Z"
    }
   },
   "outputs": [
    {
     "data": {
      "text/plain": [
       "[['CHEMBL4296955',\n",
       "  'ChEMBL',\n",
       "  'YZZVVLUNOZJXCM-DADBAOPHSA-N',\n",
       "  'CC(=O)[C@H]1CC[C@H]2[C@@H]3CCC4=CC(=O)C=C[C@]4(C)[C@H]3C(=O)C[C@]12C'],\n",
       " ['CHEMBL4296956',\n",
       "  'ChEMBL',\n",
       "  'JJYIOZSRKCDLFJ-CLFYSBASSA-N',\n",
       "  'CC(C)=CCC/C(C)=C\\\\C(N)=O'],\n",
       " ['CHEMBL4296957',\n",
       "  'ChEMBL',\n",
       "  'NSIFGZRFYPOALF-UHFFFAOYSA-N',\n",
       "  'CCOC(=O)C(C#N)C(=N)C1C(=O)OC2CCCCC21'],\n",
       " ['CHEMBL4298599',\n",
       "  'ChEMBL',\n",
       "  'ZVPPSACGDVPYQM-UHFFFAOYSA-N',\n",
       "  'Br.Br.OCCCC1=CN(Cc2cccc(CN3C=C(CCCO)NC3)n2)CN1'],\n",
       " ['CHEMBL4298667',\n",
       "  'ChEMBL',\n",
       "  'VBZPYKANSUFIJK-UHFFFAOYSA-N',\n",
       "  'F[PH](F)(F)(F)(F)F.N=c1ccc2c(-c3ccccc3)c3ccc(N)cc3sc-2c1'],\n",
       " ['CHEMBL4298695',\n",
       "  'ChEMBL',\n",
       "  'YCZQOKOQNQLIFH-UHFFFAOYSA-N',\n",
       "  'CCCCCCCCCCCCCCCCCCPCCCCCCCCCCCCCC.O=S(=O)(NS(=O)(=O)C(F)(F)F)C(F)(F)F'],\n",
       " ['CHEMBL4298696',\n",
       "  'ChEMBL',\n",
       "  'VHZWZFZSRDDRHX-UHFFFAOYSA-N',\n",
       "  'CCCCCCCCCCCCCCCCCCPCCCCCCCCCCCCCC.F[PH](F)(F)(F)(F)F'],\n",
       " ['CHEMBL4298698',\n",
       "  'ChEMBL',\n",
       "  'OTIKKVINVWNBOQ-LDJOHHLFSA-N',\n",
       "  'C[n+]1cn([C@@H]2O[C@H](CO[P@@](=O)(S)OP(=O)([O-])OP(=O)(O)O)[C@@H](O)[C@H]2O)c2nc(N)nc(O)c21'],\n",
       " ['CHEMBL4298702',\n",
       "  'ChEMBL',\n",
       "  'NZIGZXNUFVMHNV-UHFFFAOYSA-N',\n",
       "  'c1ccc(C2CC(C3CC(c4ccccc4)OC(c4ccccc4)C3)CC(c3ccccc3)O2)cc1'],\n",
       " ['CHEMBL4298680',\n",
       "  'ChEMBL',\n",
       "  'GDVFMBGQRVGNSJ-KOCQAOCKSA-N',\n",
       "  'C[n+]1cn([C@@H]2O[C@H](CO[P@@](=O)(S)OP(=O)(O)OP(=O)([O-])O)[C@@H](O)[C@H]2O)c2c1C(O)NC(N)=N2']]"
      ]
     },
     "execution_count": 17,
     "metadata": {},
     "output_type": "execute_result"
    }
   ],
   "source": [
    "ChEMBL_list[-10:]"
   ]
  },
  {
   "cell_type": "markdown",
   "metadata": {},
   "source": [
    "# 去重与合并"
   ]
  },
  {
   "cell_type": "code",
   "execution_count": 18,
   "metadata": {
    "ExecuteTime": {
     "end_time": "2023-10-22T16:49:55.375417Z",
     "start_time": "2023-10-22T16:49:55.327518Z"
    }
   },
   "outputs": [
    {
     "name": "stdout",
     "output_type": "stream",
     "text": [
      "<class 'pandas.core.frame.DataFrame'>\n",
      "Int64Index: 11043 entries, 0 to 19278\n",
      "Data columns (total 4 columns):\n",
      " #   Column    Non-Null Count  Dtype \n",
      "---  ------    --------------  ----- \n",
      " 0   ID        11043 non-null  object\n",
      " 1   Database  11043 non-null  object\n",
      " 2   Inchkey   11043 non-null  object\n",
      " 3   SMILES    11043 non-null  object\n",
      "dtypes: object(4)\n",
      "memory usage: 431.4+ KB\n"
     ]
    }
   ],
   "source": [
    "import pandas as pd\n",
    "DrugBank_pd = pd.DataFrame(DrugBank_list,columns=[\"ID\",\"Database\",\"Inchkey\",\"SMILES\"])\n",
    "DrugBank_pd = DrugBank_pd.drop_duplicates(subset =[\"SMILES\"],keep=\"first\")\n",
    "DrugBank_pd.info()"
   ]
  },
  {
   "cell_type": "code",
   "execution_count": 19,
   "metadata": {
    "ExecuteTime": {
     "end_time": "2023-10-22T16:49:55.697555Z",
     "start_time": "2023-10-22T16:49:55.377385Z"
    }
   },
   "outputs": [
    {
     "name": "stdout",
     "output_type": "stream",
     "text": [
      "<class 'pandas.core.frame.DataFrame'>\n",
      "Int64Index: 377252 entries, 0 to 377251\n",
      "Data columns (total 4 columns):\n",
      " #   Column    Non-Null Count   Dtype \n",
      "---  ------    --------------   ----- \n",
      " 0   ID        377252 non-null  object\n",
      " 1   Database  377252 non-null  object\n",
      " 2   Inchkey   377252 non-null  object\n",
      " 3   SMILES    377252 non-null  object\n",
      "dtypes: object(4)\n",
      "memory usage: 14.4+ MB\n"
     ]
    }
   ],
   "source": [
    "COCONUT_pd = pd.DataFrame(COCONUT_list,columns=[\"ID\",\"Database\",\"Inchkey\",\"SMILES\"])\n",
    "COCONUT_pd = COCONUT_pd.drop_duplicates(subset =[\"SMILES\"],keep=\"first\")\n",
    "COCONUT_pd.info()"
   ]
  },
  {
   "cell_type": "code",
   "execution_count": 20,
   "metadata": {
    "ExecuteTime": {
     "end_time": "2023-10-22T16:49:55.806338Z",
     "start_time": "2023-10-22T16:49:55.700520Z"
    }
   },
   "outputs": [
    {
     "name": "stdout",
     "output_type": "stream",
     "text": [
      "<class 'pandas.core.frame.DataFrame'>\n",
      "Int64Index: 89649 entries, 0 to 90429\n",
      "Data columns (total 4 columns):\n",
      " #   Column    Non-Null Count  Dtype \n",
      "---  ------    --------------  ----- \n",
      " 0   ID        89649 non-null  object\n",
      " 1   Database  89649 non-null  object\n",
      " 2   Inchkey   89649 non-null  object\n",
      " 3   SMILES    89649 non-null  object\n",
      "dtypes: object(4)\n",
      "memory usage: 3.4+ MB\n"
     ]
    }
   ],
   "source": [
    "NPASS_pd = pd.DataFrame(NPASS_list,columns=[\"ID\",\"Database\",\"Inchkey\",\"SMILES\"])\n",
    "NPASS_pd = NPASS_pd.drop_duplicates(subset =[\"SMILES\"],keep=\"first\")\n",
    "NPASS_pd.info()"
   ]
  },
  {
   "cell_type": "code",
   "execution_count": 21,
   "metadata": {
    "ExecuteTime": {
     "end_time": "2023-10-22T16:49:55.882075Z",
     "start_time": "2023-10-22T16:49:55.808231Z"
    }
   },
   "outputs": [
    {
     "name": "stdout",
     "output_type": "stream",
     "text": [
      "<class 'pandas.core.frame.DataFrame'>\n",
      "Int64Index: 47222 entries, 0 to 48007\n",
      "Data columns (total 4 columns):\n",
      " #   Column    Non-Null Count  Dtype \n",
      "---  ------    --------------  ----- \n",
      " 0   ID        47222 non-null  object\n",
      " 1   Database  47222 non-null  object\n",
      " 2   Inchkey   47222 non-null  object\n",
      " 3   SMILES    47222 non-null  object\n",
      "dtypes: object(4)\n",
      "memory usage: 1.8+ MB\n"
     ]
    }
   ],
   "source": [
    "FooDB_pd = pd.DataFrame(FooDB_list,columns=[\"ID\",\"Database\",\"Inchkey\",\"SMILES\"])\n",
    "FooDB_pd = FooDB_pd.drop_duplicates(subset =[\"SMILES\"],keep=\"first\")\n",
    "FooDB_pd.info()"
   ]
  },
  {
   "cell_type": "code",
   "execution_count": 22,
   "metadata": {
    "ExecuteTime": {
     "end_time": "2023-10-22T16:49:57.846779Z",
     "start_time": "2023-10-22T16:49:55.887021Z"
    }
   },
   "outputs": [
    {
     "name": "stdout",
     "output_type": "stream",
     "text": [
      "<class 'pandas.core.frame.DataFrame'>\n",
      "Int64Index: 2310747 entries, 0 to 2310889\n",
      "Data columns (total 4 columns):\n",
      " #   Column    Dtype \n",
      "---  ------    ----- \n",
      " 0   ID        object\n",
      " 1   Database  object\n",
      " 2   Inchkey   object\n",
      " 3   SMILES    object\n",
      "dtypes: object(4)\n",
      "memory usage: 88.1+ MB\n"
     ]
    }
   ],
   "source": [
    "ChEMBL_pd = pd.DataFrame(ChEMBL_list,columns=[\"ID\",\"Database\",\"Inchkey\",\"SMILES\"])\n",
    "ChEMBL_pd = ChEMBL_pd.drop_duplicates(subset =[\"SMILES\"],keep=\"first\")\n",
    "ChEMBL_pd.info()"
   ]
  },
  {
   "cell_type": "code",
   "execution_count": 23,
   "metadata": {
    "ExecuteTime": {
     "end_time": "2023-10-22T16:49:57.986405Z",
     "start_time": "2023-10-22T16:49:57.850769Z"
    }
   },
   "outputs": [
    {
     "name": "stdout",
     "output_type": "stream",
     "text": [
      "<class 'pandas.core.frame.DataFrame'>\n",
      "RangeIndex: 2835913 entries, 0 to 2835912\n",
      "Data columns (total 4 columns):\n",
      " #   Column    Dtype \n",
      "---  ------    ----- \n",
      " 0   ID        object\n",
      " 1   Database  object\n",
      " 2   Inchkey   object\n",
      " 3   SMILES    object\n",
      "dtypes: object(4)\n",
      "memory usage: 86.5+ MB\n"
     ]
    }
   ],
   "source": [
    "all_pd =pd.concat([DrugBank_pd,COCONUT_pd,NPASS_pd,FooDB_pd,ChEMBL_pd], axis = 0, ignore_index = True)\n",
    "all_pd.info()"
   ]
  },
  {
   "cell_type": "code",
   "execution_count": 24,
   "metadata": {
    "ExecuteTime": {
     "end_time": "2023-10-22T16:49:59.784596Z",
     "start_time": "2023-10-22T16:49:57.989408Z"
    }
   },
   "outputs": [
    {
     "name": "stdout",
     "output_type": "stream",
     "text": [
      "<class 'pandas.core.frame.DataFrame'>\n",
      "Int64Index: 2743637 entries, 0 to 2835912\n",
      "Data columns (total 4 columns):\n",
      " #   Column    Dtype \n",
      "---  ------    ----- \n",
      " 0   ID        object\n",
      " 1   Database  object\n",
      " 2   Inchkey   object\n",
      " 3   SMILES    object\n",
      "dtypes: object(4)\n",
      "memory usage: 104.7+ MB\n"
     ]
    }
   ],
   "source": [
    "all_pd = all_pd.drop_duplicates(subset =[\"SMILES\"],keep=\"first\")\n",
    "all_pd.info()"
   ]
  },
  {
   "cell_type": "code",
   "execution_count": 25,
   "metadata": {
    "ExecuteTime": {
     "end_time": "2023-10-22T16:49:59.971099Z",
     "start_time": "2023-10-22T16:49:59.788586Z"
    }
   },
   "outputs": [
    {
     "name": "stdout",
     "output_type": "stream",
     "text": [
      "<class 'pandas.core.frame.DataFrame'>\n",
      "RangeIndex: 2743637 entries, 0 to 2743636\n",
      "Data columns (total 4 columns):\n",
      " #   Column    Dtype \n",
      "---  ------    ----- \n",
      " 0   ID        object\n",
      " 1   Database  object\n",
      " 2   Inchkey   object\n",
      " 3   SMILES    object\n",
      "dtypes: object(4)\n",
      "memory usage: 83.7+ MB\n"
     ]
    }
   ],
   "source": [
    "all_pd = all_pd.reset_index(drop=True)\n",
    "all_pd.info()"
   ]
  },
  {
   "cell_type": "code",
   "execution_count": 26,
   "metadata": {
    "ExecuteTime": {
     "end_time": "2023-10-22T16:50:00.000047Z",
     "start_time": "2023-10-22T16:49:59.974090Z"
    }
   },
   "outputs": [
    {
     "data": {
      "text/html": [
       "<div>\n",
       "<style scoped>\n",
       "    .dataframe tbody tr th:only-of-type {\n",
       "        vertical-align: middle;\n",
       "    }\n",
       "\n",
       "    .dataframe tbody tr th {\n",
       "        vertical-align: top;\n",
       "    }\n",
       "\n",
       "    .dataframe thead th {\n",
       "        text-align: right;\n",
       "    }\n",
       "</style>\n",
       "<table border=\"1\" class=\"dataframe\">\n",
       "  <thead>\n",
       "    <tr style=\"text-align: right;\">\n",
       "      <th></th>\n",
       "      <th>ID</th>\n",
       "      <th>Database</th>\n",
       "      <th>Inchkey</th>\n",
       "      <th>SMILES</th>\n",
       "    </tr>\n",
       "  </thead>\n",
       "  <tbody>\n",
       "    <tr>\n",
       "      <th>0</th>\n",
       "      <td>DB00114</td>\n",
       "      <td>DrugBank</td>\n",
       "      <td>NGVDGCNFYWLIFO-UHFFFAOYSA-N</td>\n",
       "      <td>Cc1ncc(COP(=O)(O)O)c(C=O)c1O</td>\n",
       "    </tr>\n",
       "    <tr>\n",
       "      <th>1</th>\n",
       "      <td>DB00116</td>\n",
       "      <td>DrugBank</td>\n",
       "      <td>MSTNYGQPCMXVAQ-KIYNQFGBSA-N</td>\n",
       "      <td>Nc1nc(=O)c2c([nH]1)NCC(CNc1ccc(C(=O)N[C@@H](CC...</td>\n",
       "    </tr>\n",
       "    <tr>\n",
       "      <th>2</th>\n",
       "      <td>DB00117</td>\n",
       "      <td>DrugBank</td>\n",
       "      <td>HNDVDQJCIGZPNO-YFKPBYRVSA-N</td>\n",
       "      <td>N[C@@H](Cc1c[nH]cn1)C(=O)O</td>\n",
       "    </tr>\n",
       "    <tr>\n",
       "      <th>3</th>\n",
       "      <td>DB00118</td>\n",
       "      <td>DrugBank</td>\n",
       "      <td>MEFKEPWMEQBLKI-AIRLBKTGSA-N</td>\n",
       "      <td>C[S+](CC[C@H](N)C(=O)[O-])C[C@H]1O[C@@H](n2cnc...</td>\n",
       "    </tr>\n",
       "    <tr>\n",
       "      <th>4</th>\n",
       "      <td>DB00119</td>\n",
       "      <td>DrugBank</td>\n",
       "      <td>LCTONWCANYUPML-UHFFFAOYSA-N</td>\n",
       "      <td>CC(=O)C(=O)O</td>\n",
       "    </tr>\n",
       "    <tr>\n",
       "      <th>...</th>\n",
       "      <td>...</td>\n",
       "      <td>...</td>\n",
       "      <td>...</td>\n",
       "      <td>...</td>\n",
       "    </tr>\n",
       "    <tr>\n",
       "      <th>2743632</th>\n",
       "      <td>CHEMBL4298695</td>\n",
       "      <td>ChEMBL</td>\n",
       "      <td>YCZQOKOQNQLIFH-UHFFFAOYSA-N</td>\n",
       "      <td>CCCCCCCCCCCCCCCCCCPCCCCCCCCCCCCCC.O=S(=O)(NS(=...</td>\n",
       "    </tr>\n",
       "    <tr>\n",
       "      <th>2743633</th>\n",
       "      <td>CHEMBL4298696</td>\n",
       "      <td>ChEMBL</td>\n",
       "      <td>VHZWZFZSRDDRHX-UHFFFAOYSA-N</td>\n",
       "      <td>CCCCCCCCCCCCCCCCCCPCCCCCCCCCCCCCC.F[PH](F)(F)(...</td>\n",
       "    </tr>\n",
       "    <tr>\n",
       "      <th>2743634</th>\n",
       "      <td>CHEMBL4298698</td>\n",
       "      <td>ChEMBL</td>\n",
       "      <td>OTIKKVINVWNBOQ-LDJOHHLFSA-N</td>\n",
       "      <td>C[n+]1cn([C@@H]2O[C@H](CO[P@@](=O)(S)OP(=O)([O...</td>\n",
       "    </tr>\n",
       "    <tr>\n",
       "      <th>2743635</th>\n",
       "      <td>CHEMBL4298702</td>\n",
       "      <td>ChEMBL</td>\n",
       "      <td>NZIGZXNUFVMHNV-UHFFFAOYSA-N</td>\n",
       "      <td>c1ccc(C2CC(C3CC(c4ccccc4)OC(c4ccccc4)C3)CC(c3c...</td>\n",
       "    </tr>\n",
       "    <tr>\n",
       "      <th>2743636</th>\n",
       "      <td>CHEMBL4298680</td>\n",
       "      <td>ChEMBL</td>\n",
       "      <td>GDVFMBGQRVGNSJ-KOCQAOCKSA-N</td>\n",
       "      <td>C[n+]1cn([C@@H]2O[C@H](CO[P@@](=O)(S)OP(=O)(O)...</td>\n",
       "    </tr>\n",
       "  </tbody>\n",
       "</table>\n",
       "<p>2743637 rows × 4 columns</p>\n",
       "</div>"
      ],
      "text/plain": [
       "                    ID  Database                      Inchkey  \\\n",
       "0              DB00114  DrugBank  NGVDGCNFYWLIFO-UHFFFAOYSA-N   \n",
       "1              DB00116  DrugBank  MSTNYGQPCMXVAQ-KIYNQFGBSA-N   \n",
       "2              DB00117  DrugBank  HNDVDQJCIGZPNO-YFKPBYRVSA-N   \n",
       "3              DB00118  DrugBank  MEFKEPWMEQBLKI-AIRLBKTGSA-N   \n",
       "4              DB00119  DrugBank  LCTONWCANYUPML-UHFFFAOYSA-N   \n",
       "...                ...       ...                          ...   \n",
       "2743632  CHEMBL4298695    ChEMBL  YCZQOKOQNQLIFH-UHFFFAOYSA-N   \n",
       "2743633  CHEMBL4298696    ChEMBL  VHZWZFZSRDDRHX-UHFFFAOYSA-N   \n",
       "2743634  CHEMBL4298698    ChEMBL  OTIKKVINVWNBOQ-LDJOHHLFSA-N   \n",
       "2743635  CHEMBL4298702    ChEMBL  NZIGZXNUFVMHNV-UHFFFAOYSA-N   \n",
       "2743636  CHEMBL4298680    ChEMBL  GDVFMBGQRVGNSJ-KOCQAOCKSA-N   \n",
       "\n",
       "                                                    SMILES  \n",
       "0                             Cc1ncc(COP(=O)(O)O)c(C=O)c1O  \n",
       "1        Nc1nc(=O)c2c([nH]1)NCC(CNc1ccc(C(=O)N[C@@H](CC...  \n",
       "2                               N[C@@H](Cc1c[nH]cn1)C(=O)O  \n",
       "3        C[S+](CC[C@H](N)C(=O)[O-])C[C@H]1O[C@@H](n2cnc...  \n",
       "4                                             CC(=O)C(=O)O  \n",
       "...                                                    ...  \n",
       "2743632  CCCCCCCCCCCCCCCCCCPCCCCCCCCCCCCCC.O=S(=O)(NS(=...  \n",
       "2743633  CCCCCCCCCCCCCCCCCCPCCCCCCCCCCCCCC.F[PH](F)(F)(...  \n",
       "2743634  C[n+]1cn([C@@H]2O[C@H](CO[P@@](=O)(S)OP(=O)([O...  \n",
       "2743635  c1ccc(C2CC(C3CC(c4ccccc4)OC(c4ccccc4)C3)CC(c3c...  \n",
       "2743636  C[n+]1cn([C@@H]2O[C@H](CO[P@@](=O)(S)OP(=O)(O)...  \n",
       "\n",
       "[2743637 rows x 4 columns]"
      ]
     },
     "execution_count": 26,
     "metadata": {},
     "output_type": "execute_result"
    }
   ],
   "source": [
    "all_pd"
   ]
  },
  {
   "cell_type": "code",
   "execution_count": 27,
   "metadata": {
    "ExecuteTime": {
     "end_time": "2023-10-22T16:50:00.029990Z",
     "start_time": "2023-10-22T16:50:00.005014Z"
    }
   },
   "outputs": [
    {
     "data": {
      "text/plain": [
       "'\\nprint(\"去重前:{}\".format(len(FooDB_list)+len(NPASS_list)+len(COCONUT_list)+len(DrugBank_list)))\\nsmiles_dict = {}\\nfor i in FooDB_list:\\n    smiles_dict[i[2]] = i[0]\\nfor i in NPASS_list:\\n    smiles_dict[i[2]] = i[0]\\nfor i in COCONUT_list:\\n    smiles_dict[i[2]] = i[0]\\nfor i in DrugBank_list:\\n    smiles_dict[i[2]] = i[0]\\nprint(\"去重后:{}\".format(len(smiles_dict)))\\n'"
      ]
     },
     "execution_count": 27,
     "metadata": {},
     "output_type": "execute_result"
    }
   ],
   "source": [
    "\"\"\"\n",
    "print(\"去重前:{}\".format(len(FooDB_list)+len(NPASS_list)+len(COCONUT_list)+len(DrugBank_list)))\n",
    "smiles_dict = {}\n",
    "for i in FooDB_list:\n",
    "    smiles_dict[i[2]] = i[0]\n",
    "for i in NPASS_list:\n",
    "    smiles_dict[i[2]] = i[0]\n",
    "for i in COCONUT_list:\n",
    "    smiles_dict[i[2]] = i[0]\n",
    "for i in DrugBank_list:\n",
    "    smiles_dict[i[2]] = i[0]\n",
    "print(\"去重后:{}\".format(len(smiles_dict)))\n",
    "\"\"\""
   ]
  },
  {
   "cell_type": "markdown",
   "metadata": {},
   "source": [
    "# 保存"
   ]
  },
  {
   "cell_type": "code",
   "execution_count": 28,
   "metadata": {
    "ExecuteTime": {
     "end_time": "2023-10-22T16:50:09.517722Z",
     "start_time": "2023-10-22T16:50:00.031934Z"
    }
   },
   "outputs": [],
   "source": [
    "all_pd.to_csv(\"candidate_compounds.csv\")"
   ]
  },
  {
   "cell_type": "code",
   "execution_count": 29,
   "metadata": {
    "ExecuteTime": {
     "end_time": "2023-10-22T16:50:09.534676Z",
     "start_time": "2023-10-22T16:50:09.518719Z"
    }
   },
   "outputs": [
    {
     "data": {
      "text/plain": [
       "'\\nwith open(\"candidate compounds.txt\",\\'w\\') as file:\\n    for smiles, cid in smiles_dict.items():\\n        file.writelines(\"{} {}\\n\".format(cid, smiles))\\n'"
      ]
     },
     "execution_count": 29,
     "metadata": {},
     "output_type": "execute_result"
    }
   ],
   "source": [
    "\"\"\"\n",
    "with open(\"candidate compounds.txt\",'w') as file:\n",
    "    for smiles, cid in smiles_dict.items():\n",
    "        file.writelines(\"{} {}\\n\".format(cid, smiles))\n",
    "\"\"\""
   ]
  },
  {
   "cell_type": "code",
   "execution_count": null,
   "metadata": {},
   "outputs": [],
   "source": []
  }
 ],
 "metadata": {
  "hide_input": false,
  "kernelspec": {
   "display_name": "Python 3",
   "language": "python",
   "name": "python3"
  },
  "language_info": {
   "codemirror_mode": {
    "name": "ipython",
    "version": 3
   },
   "file_extension": ".py",
   "mimetype": "text/x-python",
   "name": "python",
   "nbconvert_exporter": "python",
   "pygments_lexer": "ipython3",
   "version": "3.7.1"
  },
  "toc": {
   "base_numbering": 1,
   "nav_menu": {},
   "number_sections": true,
   "sideBar": true,
   "skip_h1_title": false,
   "title_cell": "Table of Contents",
   "title_sidebar": "Contents",
   "toc_cell": false,
   "toc_position": {},
   "toc_section_display": true,
   "toc_window_display": false
  },
  "varInspector": {
   "cols": {
    "lenName": 16,
    "lenType": 16,
    "lenVar": 40
   },
   "kernels_config": {
    "python": {
     "delete_cmd_postfix": "",
     "delete_cmd_prefix": "del ",
     "library": "var_list.py",
     "varRefreshCmd": "print(var_dic_list())"
    },
    "r": {
     "delete_cmd_postfix": ") ",
     "delete_cmd_prefix": "rm(",
     "library": "var_list.r",
     "varRefreshCmd": "cat(var_dic_list()) "
    }
   },
   "oldHeight": 341.994238,
   "position": {
    "height": "40px",
    "left": "1230.19px",
    "right": "20px",
    "top": "83.9702px",
    "width": "486.042px"
   },
   "types_to_exclude": [
    "module",
    "function",
    "builtin_function_or_method",
    "instance",
    "_Feature"
   ],
   "varInspector_section_display": "none",
   "window_display": true
  }
 },
 "nbformat": 4,
 "nbformat_minor": 2
}
